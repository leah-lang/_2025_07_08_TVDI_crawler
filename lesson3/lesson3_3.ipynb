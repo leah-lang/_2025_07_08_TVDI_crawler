{
 "cells": [
  {
   "cell_type": "code",
   "execution_count": 13,
   "id": "853ae0ac",
   "metadata": {},
   "outputs": [
    {
     "data": {
      "text/plain": [
       "__main__.Site"
      ]
     },
     "execution_count": 13,
     "metadata": {},
     "output_type": "execute_result"
    }
   ],
   "source": [
    "class Site:\n",
    "    pass\n",
    "\n",
    "s1 = Site()\n",
    "type(s1)"
   ]
  },
  {
   "cell_type": "code",
   "execution_count": 15,
   "id": "cfbfdbe3",
   "metadata": {},
   "outputs": [
    {
     "name": "stdout",
     "output_type": "stream",
     "text": [
      "站點名稱: 屏東(枋山)\n",
      "所在縣市: 屏東縣\n",
      "空氣品質指標 (AQI): 55\n",
      "主要污染物: 懸浮微粒\n",
      "狀態: 普通\n",
      "PM2.5 濃度: 10\n",
      "PM2.5 平均濃度: 9.2\n",
      "緯度: 22.260899\n",
      "經度: 120.651472\n",
      "資料創建日期: 2025-07-15 10:00\n"
     ]
    }
   ],
   "source": [
    "import json\n",
    "from pprint import pprint\n",
    "\n",
    "# 打開並讀取 JSON 檔案\n",
    "with open('aqx_p_488.json', 'r', encoding='utf-8') as file:\n",
    "    data = json.load(file)\n",
    "\n",
    "\n",
    "# 顯示讀取後的資料（會是 Python 字典）\n",
    "for sitename in data['records']:\n",
    "    s1 = Site()\n",
    "    s1.sitename = sitename['sitename']\n",
    "    s1.county = sitename['county']\n",
    "    s1.aqi = sitename['aqi']\n",
    "    s1.pollutant = sitename['pollutant']\n",
    "    s1.status = sitename['status']\n",
    "    s1.pm2_5 = sitename['pm2.5']\n",
    "    s1.pm2_5_avg = sitename['pm2.5_avg']\n",
    "    s1.latitude = sitename['latitude']\n",
    "    s1.longitude = sitename['longitude']\n",
    "    s1.datacreationdate = sitename['datacreationdate']\n",
    "    break\n",
    "\n",
    "print(\"站點名稱:\", s1.sitename)\n",
    "print(\"所在縣市:\", s1.county)\n",
    "print(\"空氣品質指標 (AQI):\", s1.aqi)\n",
    "print(\"主要污染物:\", s1.pollutant)\n",
    "print(\"狀態:\", s1.status)\n",
    "print(\"PM2.5 濃度:\", s1.pm2_5)\n",
    "print(\"PM2.5 平均濃度:\", s1.pm2_5_avg)\n",
    "print(\"緯度:\", s1.latitude)\n",
    "print(\"經度:\", s1.longitude)\n",
    "print(\"資料創建日期:\", s1.datacreationdate)\n",
    "\n"
   ]
  }
 ],
 "metadata": {
  "kernelspec": {
   "display_name": "web_crawler",
   "language": "python",
   "name": "python3"
  },
  "language_info": {
   "codemirror_mode": {
    "name": "ipython",
    "version": 3
   },
   "file_extension": ".py",
   "mimetype": "text/x-python",
   "name": "python",
   "nbconvert_exporter": "python",
   "pygments_lexer": "ipython3",
   "version": "3.11.13"
  }
 },
 "nbformat": 4,
 "nbformat_minor": 5
}
